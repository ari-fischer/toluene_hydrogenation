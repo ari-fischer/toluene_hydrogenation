{
 "cells": [
  {
   "cell_type": "code",
   "execution_count": 96,
   "id": "5ea9f62a",
   "metadata": {},
   "outputs": [],
   "source": [
    "import numpy as np\n",
    "import pandas as pd\n",
    "import scipy as sci\n",
    "from ase import Atoms\n",
    "from ase.visualize import view\n",
    "from ase.io import write\n",
    "from ase.io import read\n",
    "import os\n",
    "import subprocess\n",
    "from rdkit import Chem\n",
    "from rdkit.Chem import AllChem\n",
    "from rdkit.Chem import rdMolTransforms\n",
    "from rdkit.Chem import Draw"
   ]
  },
  {
   "cell_type": "code",
   "execution_count": 98,
   "id": "82651d1f",
   "metadata": {},
   "outputs": [],
   "source": [
    "#import VASP output files\n",
    "df = pd.read_csv('thermo_out_gas.csv')\n",
    "\n",
    "\n"
   ]
  },
  {
   "cell_type": "code",
   "execution_count": 99,
   "id": "ae8dae51",
   "metadata": {},
   "outputs": [],
   "source": [
    "ev_kJ = 96.4869\n",
    "h_ev = 4.135668E-15 #planks constant in ev*s\n",
    "k_ev = 0.0000861733 #boltzmann in ev/K\n",
    "R_ig = 8.3144 #kJ/mol/K\n",
    "T = 533\n",
    "\n",
    "#initial vector to build S H and ZPEs\n",
    "S_vec = np.array([])\n",
    "H_vec = np.array([])\n",
    "ZPE_vec = np.array([])\n",
    "H_rot_vec = np.array([])\n",
    "H_trans_vec = np.array([])\n",
    "S_rot_ig_vec = np.array([])\n",
    "S_trans_vec = np.array([])\n",
    "f_ims = np.array([])\n",
    "   "
   ]
  },
  {
   "cell_type": "code",
   "execution_count": 103,
   "id": "632bf6de",
   "metadata": {},
   "outputs": [
    {
     "name": "stdout",
     "output_type": "stream",
     "text": [
      "/Users/arifischer/Documents/misc/MS2/DFT_calculations/compiling_calculations/gas/H2/freq\n",
      "[0. 0. 0.]\n",
      "/Users/arifischer/Documents/misc/MS2/DFT_calculations/compiling_calculations/gas/toluene/freq\n",
      "[9.73916335e-47 2.22226108e-46 3.19607668e-46]\n",
      "/Users/arifischer/Documents/misc/MS2/DFT_calculations/compiling_calculations/gas/4MCHE/freq\n",
      "[1.09094905e-46 2.33780195e-46 3.34364061e-46]\n"
     ]
    }
   ],
   "source": [
    "for i in range(df.shape[0]):\n",
    "    [N_A,k_B,h,kJmol_Ha] = [6.0221408e23,1.380649e-23,6.626070E-34,2625.5] #[ -- , m2 kg s-2 K-1, K,  # m2 kg / s]\n",
    "    R_ig = 8.3144\n",
    "    R = k_B*N_A \n",
    "    lp = df['path_f'][i]\n",
    "    print(lp)\n",
    "    #get number of atoms at DOF\n",
    "    f = open(df['path_g'][i]+'/CONTCAR','r')\n",
    "    data = list([])\n",
    "    \n",
    "    for lines in f:\n",
    "        data.append(lines)\n",
    "    atoms = data[6].split(' ')\n",
    "    ele=''\n",
    "    atoms=[i for i in atoms if i!=ele]\n",
    "    atoms[-1] = atoms[-1][0:-1]\n",
    "    n_HC = list([])\n",
    "    [n_HC.append(int(x)) for x in atoms]\n",
    "    #here, no adsorbate so sum over all n_HC\n",
    "    n_atoms = sum(n_HC)\n",
    "    \n",
    "    #moments\n",
    "    raw_mol = Chem.MolFromXYZFile(df['path_g'][i]+'/out.xyz')\n",
    "    mol = Chem.Mol(raw_mol)\n",
    "    conf = mol.GetConformer()\n",
    "    moments_of_inertia = rdMolTransforms.ComputePrincipalAxesAndMoments(conf)\n",
    "    inertia_values = moments_of_inertia[1]*1.67377E-27/1e10/1e10\n",
    "    print(inertia_values)\n",
    "    \n",
    "    \n",
    "    \n",
    "    if df['species'][i]=='H2':\n",
    "        DoF = n_atoms*3-5\n",
    "    else:\n",
    "        DoF = n_atoms*3-6\n",
    "    \n",
    "    m = df['mass'][i]*1.67377E-27\n",
    "    \n",
    "    try:\n",
    "        df_freq = pd.read_csv(lp+'/Freqs.txt',header=None,delim_whitespace=True)\n",
    "\n",
    "    except ValueError:\n",
    "        df_freq = np.array([])\n",
    "    \n",
    "    if np.size(df_freq)!= 0:\n",
    "        df_freq = pd.read_csv(lp+'/Freqs.txt',header=None,delim_whitespace=True)\n",
    "        vibs = df_freq[7]\n",
    "        vibs = pd.to_numeric(vibs,errors='coerce')\n",
    "\n",
    "        v_hz = vibs.to_numpy()*29979.2458*1e6#cm-1 -> Mhz -> hz\n",
    "        S_vibs =R_ig/1000*((h_ev*v_hz/(k_ev*T*(np.exp(h_ev*v_hz/k_ev/T)-1))-np.log(1-np.exp(-h_ev*v_hz/k_ev/T))))\n",
    "        ZPE = 1/2*h_ev*v_hz\n",
    "        H_vib = h_ev*v_hz*np.exp(-h_ev*v_hz/k_ev/T)/(1-np.exp(-h_ev*v_hz/k_ev/T))\n",
    "        if df['species'][i]=='Toluene': #remove the mode for internal rotation s\n",
    "            S_vec = np.append(S_vec,np.sum(np.sum(S_vibs[0:(DoF-1)]))) \n",
    "            #Data['H_vib'][i] = np.sum(np.sum(S_damp))\n",
    "            H_vec = np.append(H_vec,np.sum(np.sum(H_vib[0:(DoF-1)]))) \n",
    "        else:\n",
    "            S_vec = np.append(S_vec,np.sum(np.sum(S_vibs[0:(DoF)]))) \n",
    "            #Data['H_vib'][i] = np.sum(np.sum(S_damp))\n",
    "            H_vec = np.append(H_vec,np.sum(np.sum(H_vib[0:(DoF)])))         \n",
    "        \n",
    "        ZPE_vec = np.append(ZPE_vec,np.sum(np.sum(ZPE[0:DoF]))) \n",
    "\n",
    "        \n",
    "    else:\n",
    "        S_vec = np.append(S_vec,0) \n",
    "        H_vec = np.append(H_vec,0) \n",
    "        ZPE_vec = np.append(ZPE_vec,0) \n",
    "        \n",
    "    #https://cccbdb.nist.gov/thermox.asp\n",
    "    if df['species'][i]=='H2': #linear rotor\n",
    "        sigma = 2\n",
    "        H_rot = 3/2*R_ig*T/1000 # kJ/mol \n",
    "        B = h/8/np.pi/np.pi/4.64E-48\n",
    "        S_rot = R_ig/1000*(np.log(k_B*T/sigma/h/B)+1)\n",
    "    else: #non-linear rotor\n",
    "        sigma = 1\n",
    "        A = h/8/np.pi/np.pi/inertia_values[0]\n",
    "        B = h/8/np.pi/np.pi/inertia_values[1]\n",
    "        C = h/8/np.pi/np.pi/inertia_values[2]\n",
    "        H_rot = 3/2*R_ig*T/1000 # kJ/mol    \n",
    "        S_rot = R_ig/1000*(3/2*np.log(k_B*T/h)-1/2*np.log(A*B*C/np.pi)-np.log(sigma)+3/2)\n",
    "        \n",
    "        \n",
    "\n",
    "    H_trans = 5/2*R_ig*T/1000#df_H.to_numpy()[0] # kJ/mol#populate the table\n",
    "    S_trans = R_ig/1000*(3/2*np.log(2*np.pi*m/h/h)+5/2*np.log(k_B*T)-np.log(1E5)+5/2) # J/mol/K      \n",
    " \n",
    "\n",
    "    H_rot_vec = np.append(H_rot_vec,H_rot)\n",
    "    H_trans_vec = np.append(H_trans_vec,H_trans)\n",
    "    S_rot_ig_vec = np.append(S_rot_ig_vec,S_rot)\n",
    "    S_trans_vec = np.append(S_trans_vec,S_trans)\n",
    "        \n",
    "df.insert(2,'S_vib',S_vec) #kJ/mol\n",
    "df.insert(2,'H_vib',H_vec*ev_kJ) #kJ/mol \n",
    "df.insert(2,'ZPE',ZPE_vec*ev_kJ) #kJ/mol\n",
    "\n",
    "df.insert(2,'H_rot',H_rot_vec) #kcal/mol -> kJ/mol (occured at import)\n",
    "df.insert(2,'H_trans',H_trans_vec) #kcal/mol -> kJ/mol\n",
    "df.insert(2,'S_rot',S_rot_ig_vec) #kcal/mol -> J/mol/K\n",
    "df.insert(2,'S_trans',S_trans_vec) #kcal/mol -> J/mol/K\n"
   ]
  },
  {
   "cell_type": "code",
   "execution_count": 104,
   "id": "2d63dd5b",
   "metadata": {},
   "outputs": [],
   "source": [
    "#calculate get the internal rotation for toluene\n",
    "raw_mol = Chem.MolFromXYZFile(df['path_g'][1]+'/out.xyz')\n",
    "mol = Chem.Mol(raw_mol)\n",
    "conf = mol.GetConformer()\n",
    "moments_of_inertia = rdMolTransforms.ComputePrincipalAxesAndMoments(conf)"
   ]
  },
  {
   "cell_type": "code",
   "execution_count": 105,
   "id": "e54917f5",
   "metadata": {},
   "outputs": [
    {
     "data": {
      "text/plain": [
       "array([ 0.16006344,  0.98704949, -0.01063034])"
      ]
     },
     "execution_count": 105,
     "metadata": {},
     "output_type": "execute_result"
    }
   ],
   "source": [
    "### get the axis for the C-C bond with the methyl group\n",
    "#methyl group, C7\n",
    "atom_idx1 = 5  # Example: Atom 1\n",
    "atom_idx2 = 6  # Example: Atom 2\n",
    "# Get the coordinates of the two atoms\n",
    "coords1 = np.array(conf.GetAtomPosition(atom_idx1))\n",
    "coords2 = np.array(conf.GetAtomPosition(atom_idx2))\n",
    "# Calculate the bond vector\n",
    "bond_vector = coords2 - coords1\n",
    "# Normalize the bond vector to get the unit vector (axis along the bond)\n",
    "bond_axis = bond_vector / np.linalg.norm(bond_vector)\n",
    "bond_axis"
   ]
  },
  {
   "cell_type": "code",
   "execution_count": 106,
   "id": "31b5721f",
   "metadata": {},
   "outputs": [
    {
     "name": "stdout",
     "output_type": "stream",
     "text": [
      "0.9991645054059124\n",
      "0.0007487966403851348\n",
      "0.04086233523123881\n"
     ]
    },
    {
     "data": {
      "text/plain": [
       "array([1.71572676e-01, 4.22307187e-08, 8.74429809e-05])"
      ]
     },
     "execution_count": 106,
     "metadata": {},
     "output_type": "execute_result"
    }
   ],
   "source": [
    "#get alpha, beta, kappa, the cosine of the angles with the axis\n",
    "cos_thetas = list([])\n",
    "for i in moments_of_inertia[0]:\n",
    "    # Calculate the dot product of the two vectors\n",
    "    dot_product = np.dot(i, bond_axis)\n",
    "\n",
    "    # Calculate the magnitudes of the vectors\n",
    "    magnitude_axis1 = np.linalg.norm(i)\n",
    "    magnitude_axis2 = np.linalg.norm(bond_axis)\n",
    "\n",
    "    # Calculate the cosine of the angle\n",
    "    cos_theta = dot_product / (magnitude_axis1 * magnitude_axis2)\n",
    "    print(cos_theta)\n",
    "    cos_thetas.append(cos_theta)\n",
    "#calc moment part\n",
    "np.array(cos_thetas)**2/moments_of_inertia[1]"
   ]
  },
  {
   "cell_type": "code",
   "execution_count": 107,
   "id": "ddd6cf57",
   "metadata": {},
   "outputs": [
    {
     "data": {
      "text/plain": [
       "[1.0293014724163907, 1.0228345211952214, 1.0227959124172359]"
      ]
     },
     "execution_count": 107,
     "metadata": {},
     "output_type": "execute_result"
    }
   ],
   "source": [
    "#find the distances of the H to the axis\n",
    "#methyl H at H6 H7 H8, last three atoms\n",
    "H_list = np.array([conf.GetAtomPosition(12),conf.GetAtomPosition(13),conf.GetAtomPosition(14)])\n",
    "# Define a point A on the axis\n",
    "A = coords1\n",
    "\n",
    "# Define the direction vector d of the axis\n",
    "d = bond_axis  # Example: y-axis\n",
    "\n",
    "ds = list([])\n",
    "\n",
    "for i in H_list:\n",
    "\n",
    "    P = i\n",
    "    # Step 1: Calculate the vector AP\n",
    "    AP = P - A\n",
    "\n",
    "    # Step 2: Compute the cross product AP x d\n",
    "    cross_product = np.cross(AP, d)\n",
    "\n",
    "    # Step 3: Calculate the magnitude of the cross product\n",
    "    magnitude_cross_product = np.linalg.norm(cross_product)\n",
    "\n",
    "    # Step 4: Calculate the magnitude of the direction vector d\n",
    "    magnitude_d = np.linalg.norm(d)\n",
    "\n",
    "    # Step 5: Calculate the distance from point P to the axis\n",
    "    distance = magnitude_cross_product / magnitude_d\n",
    "    ds.append(distance)\n",
    "ds#angstrom"
   ]
  },
  {
   "cell_type": "code",
   "execution_count": 108,
   "id": "8b133a56",
   "metadata": {},
   "outputs": [
    {
     "data": {
      "text/plain": [
       "1.4465578689042633"
      ]
     },
     "execution_count": 108,
     "metadata": {},
     "output_type": "execute_result"
    }
   ],
   "source": [
    "## find the moment of inertial for the internal rotation\n",
    "\n",
    "#sum over mass * r**2, in units of kg and angstroms2 to m2\n",
    "#I_top = np.sum((np.array(ds)**2)*1.67377E-27)/1E10/1E10\n",
    "I_top = np.sum(np.array(ds)**2)\n",
    "I_int = I_top-I_top**2*np.sum(np.array(cos_thetas)**2/moments_of_inertia[1])\n",
    "I_int"
   ]
  },
  {
   "cell_type": "code",
   "execution_count": 109,
   "id": "fb11fa72",
   "metadata": {},
   "outputs": [
    {
     "name": "stdout",
     "output_type": "stream",
     "text": [
      "8.43187772800907\n",
      "2.2157875999999996\n"
     ]
    }
   ],
   "source": [
    "# calculate the entropy for the internal rotation\n",
    "\n",
    "S_int = (R_ig/1000*\n",
    "    (1/2*np.log(8*np.pi**3*I_int*1.67377E-27/1E10/1E10*k_B*533)-np.log(6*h)+1/2))\n",
    "print(S_int*1000)\n",
    "print(1/2*R_ig*T/1000)"
   ]
  },
  {
   "cell_type": "code",
   "execution_count": 110,
   "id": "7730aff8",
   "metadata": {},
   "outputs": [],
   "source": [
    "df.to_csv(\"thermo_gas_533_aug.csv\")"
   ]
  },
  {
   "cell_type": "code",
   "execution_count": 93,
   "id": "4ed7b5db",
   "metadata": {},
   "outputs": [
    {
     "data": {
      "text/html": [
       "<div>\n",
       "<style scoped>\n",
       "    .dataframe tbody tr th:only-of-type {\n",
       "        vertical-align: middle;\n",
       "    }\n",
       "\n",
       "    .dataframe tbody tr th {\n",
       "        vertical-align: top;\n",
       "    }\n",
       "\n",
       "    .dataframe thead th {\n",
       "        text-align: right;\n",
       "    }\n",
       "</style>\n",
       "<table border=\"1\" class=\"dataframe\">\n",
       "  <thead>\n",
       "    <tr style=\"text-align: right;\">\n",
       "      <th></th>\n",
       "      <th>Unnamed: 0</th>\n",
       "      <th>species</th>\n",
       "      <th>S_trans</th>\n",
       "      <th>S_rot</th>\n",
       "      <th>H_trans</th>\n",
       "      <th>H_rot</th>\n",
       "      <th>ZPE</th>\n",
       "      <th>H_vib</th>\n",
       "      <th>S_vib</th>\n",
       "      <th>n_H</th>\n",
       "      <th>path_g</th>\n",
       "      <th>path_f</th>\n",
       "      <th>E_ev</th>\n",
       "      <th>mass</th>\n",
       "    </tr>\n",
       "  </thead>\n",
       "  <tbody>\n",
       "    <tr>\n",
       "      <th>0</th>\n",
       "      <td>0</td>\n",
       "      <td>H2</td>\n",
       "      <td>0.129673</td>\n",
       "      <td>0.017641</td>\n",
       "      <td>11.078938</td>\n",
       "      <td>6.647363</td>\n",
       "      <td>25.962097</td>\n",
       "      <td>0.000424</td>\n",
       "      <td>8.624857e-07</td>\n",
       "      <td>0</td>\n",
       "      <td>/Users/arifischer/Documents/misc/MS2/DFT_calcu...</td>\n",
       "      <td>/Users/arifischer/Documents/misc/MS2/DFT_calcu...</td>\n",
       "      <td>-7.025669</td>\n",
       "      <td>2</td>\n",
       "    </tr>\n",
       "    <tr>\n",
       "      <th>1</th>\n",
       "      <td>1</td>\n",
       "      <td>Toluene</td>\n",
       "      <td>0.177423</td>\n",
       "      <td>0.086199</td>\n",
       "      <td>11.078938</td>\n",
       "      <td>6.647363</td>\n",
       "      <td>327.518652</td>\n",
       "      <td>31.986495</td>\n",
       "      <td>9.397899e-02</td>\n",
       "      <td>0</td>\n",
       "      <td>/Users/arifischer/Documents/misc/MS2/DFT_calcu...</td>\n",
       "      <td>/Users/arifischer/Documents/misc/MS2/DFT_calcu...</td>\n",
       "      <td>-92.846885</td>\n",
       "      <td>92</td>\n",
       "    </tr>\n",
       "    <tr>\n",
       "      <th>2</th>\n",
       "      <td>2</td>\n",
       "      <td>4MCHE</td>\n",
       "      <td>0.177953</td>\n",
       "      <td>0.087069</td>\n",
       "      <td>11.078938</td>\n",
       "      <td>6.647363</td>\n",
       "      <td>443.016440</td>\n",
       "      <td>44.395236</td>\n",
       "      <td>1.385537e-01</td>\n",
       "      <td>0</td>\n",
       "      <td>/Users/arifischer/Documents/misc/MS2/DFT_calcu...</td>\n",
       "      <td>/Users/arifischer/Documents/misc/MS2/DFT_calcu...</td>\n",
       "      <td>-107.908470</td>\n",
       "      <td>96</td>\n",
       "    </tr>\n",
       "  </tbody>\n",
       "</table>\n",
       "</div>"
      ],
      "text/plain": [
       "   Unnamed: 0  species   S_trans     S_rot    H_trans     H_rot         ZPE  \\\n",
       "0           0       H2  0.129673  0.017641  11.078938  6.647363   25.962097   \n",
       "1           1  Toluene  0.177423  0.086199  11.078938  6.647363  327.518652   \n",
       "2           2    4MCHE  0.177953  0.087069  11.078938  6.647363  443.016440   \n",
       "\n",
       "       H_vib         S_vib  n_H  \\\n",
       "0   0.000424  8.624857e-07    0   \n",
       "1  31.986495  9.397899e-02    0   \n",
       "2  44.395236  1.385537e-01    0   \n",
       "\n",
       "                                              path_g  \\\n",
       "0  /Users/arifischer/Documents/misc/MS2/DFT_calcu...   \n",
       "1  /Users/arifischer/Documents/misc/MS2/DFT_calcu...   \n",
       "2  /Users/arifischer/Documents/misc/MS2/DFT_calcu...   \n",
       "\n",
       "                                              path_f        E_ev  mass  \n",
       "0  /Users/arifischer/Documents/misc/MS2/DFT_calcu...   -7.025669     2  \n",
       "1  /Users/arifischer/Documents/misc/MS2/DFT_calcu...  -92.846885    92  \n",
       "2  /Users/arifischer/Documents/misc/MS2/DFT_calcu... -107.908470    96  "
      ]
     },
     "execution_count": 93,
     "metadata": {},
     "output_type": "execute_result"
    }
   ],
   "source": [
    "df"
   ]
  },
  {
   "cell_type": "code",
   "execution_count": 90,
   "id": "b2fed82e",
   "metadata": {},
   "outputs": [
    {
     "data": {
      "text/plain": [
       "array([0.0176412 , 0.08619893, 0.08706903])"
      ]
     },
     "execution_count": 90,
     "metadata": {},
     "output_type": "execute_result"
    }
   ],
   "source": [
    "S_rot_ig_vec"
   ]
  },
  {
   "cell_type": "code",
   "execution_count": 22,
   "id": "e0fe1108",
   "metadata": {},
   "outputs": [
    {
     "name": "stdout",
     "output_type": "stream",
     "text": [
      "Atom Index: 0, Symbol: C, Coordinates: <rdkit.Geometry.rdGeometry.Point3D object at 0x14f5078c0>\n",
      "Atom Index: 1, Symbol: C, Coordinates: <rdkit.Geometry.rdGeometry.Point3D object at 0x14f507940>\n",
      "Atom Index: 2, Symbol: C, Coordinates: <rdkit.Geometry.rdGeometry.Point3D object at 0x14f5078c0>\n",
      "Atom Index: 3, Symbol: C, Coordinates: <rdkit.Geometry.rdGeometry.Point3D object at 0x14f507940>\n",
      "Atom Index: 4, Symbol: C, Coordinates: <rdkit.Geometry.rdGeometry.Point3D object at 0x14f5078c0>\n",
      "Atom Index: 5, Symbol: C, Coordinates: <rdkit.Geometry.rdGeometry.Point3D object at 0x14f5074c0>\n",
      "Atom Index: 6, Symbol: C, Coordinates: <rdkit.Geometry.rdGeometry.Point3D object at 0x14f5078c0>\n",
      "Atom Index: 7, Symbol: H, Coordinates: <rdkit.Geometry.rdGeometry.Point3D object at 0x14f5074c0>\n",
      "Atom Index: 8, Symbol: H, Coordinates: <rdkit.Geometry.rdGeometry.Point3D object at 0x14f5078c0>\n",
      "Atom Index: 9, Symbol: H, Coordinates: <rdkit.Geometry.rdGeometry.Point3D object at 0x14f507940>\n",
      "Atom Index: 10, Symbol: H, Coordinates: <rdkit.Geometry.rdGeometry.Point3D object at 0x14f5078c0>\n",
      "Atom Index: 11, Symbol: H, Coordinates: <rdkit.Geometry.rdGeometry.Point3D object at 0x14f507940>\n",
      "Atom Index: 12, Symbol: H, Coordinates: <rdkit.Geometry.rdGeometry.Point3D object at 0x14f5078c0>\n",
      "Atom Index: 13, Symbol: H, Coordinates: <rdkit.Geometry.rdGeometry.Point3D object at 0x14f507940>\n",
      "Atom Index: 14, Symbol: H, Coordinates: <rdkit.Geometry.rdGeometry.Point3D object at 0x14f5078c0>\n"
     ]
    }
   ],
   "source": [
    "for atom in mol.GetAtoms():\n",
    "    atom_index = atom.GetIdx()\n",
    "    coords = conf.GetAtomPosition(atom_index)\n",
    "    print(f\"Atom Index: {atom_index}, Symbol: {atom.GetSymbol()}, Coordinates: {coords}\")"
   ]
  },
  {
   "cell_type": "code",
   "execution_count": 19,
   "id": "55771ddf",
   "metadata": {},
   "outputs": [],
   "source": [
    "img = Draw.MolToImage(mol, size=(300, 300), kekulize=True, wedgeBonds=True, atomIdx=True)\n",
    "img.show()"
   ]
  },
  {
   "cell_type": "code",
   "execution_count": null,
   "id": "364863f5",
   "metadata": {},
   "outputs": [],
   "source": [
    "#free energies:\n",
    "\n",
    "#G = H - T S\n",
    "#H + E + ZPE + H_vib\n",
    "Hs = (df['E_ev'].to_numpy()*ev_kJ + df['ZPE'].to_numpy() + df['H_vib'].to_numpy()+\n",
    "      df['H_rot'].to_numpy()+df['H_trans'].to_numpy())\n",
    "\n",
    "Ss = df['S_vib'].to_numpy()+df['S_rot'].to_numpy()+df['S_trans'].to_numpy()\n",
    "\n",
    "Gs = Hs - T*Ss\n",
    "Gs"
   ]
  },
  {
   "cell_type": "code",
   "execution_count": null,
   "id": "d805893e",
   "metadata": {},
   "outputs": [],
   "source": [
    "\n",
    "df.insert(1,'H_533',Hs) #kcal/mol -> kJ/mol (occured at import)\n",
    "df.insert(1,'S_533',Ss) #kcal/mol -> kJ/mol (occured at import)\n",
    "df.insert(1,'G_533',Gs) #kcal/mol -> kJ/mol (occured at import)\n",
    "df"
   ]
  },
  {
   "cell_type": "code",
   "execution_count": null,
   "id": "ae7c6bc3",
   "metadata": {},
   "outputs": [],
   "source": [
    "df.to_csv('gas_thermo_533.csv')"
   ]
  },
  {
   "cell_type": "code",
   "execution_count": null,
   "id": "85447d3f",
   "metadata": {},
   "outputs": [],
   "source": [
    "kB = 1.380649E-23\n",
    "h = 6.62607015E-34\n",
    "T = 298\n",
    "\n",
    "#rate constant per hour\n",
    "k_rxn = kB*T/h*np.exp(-(19.5*4.1844)/8.314E-3/T)*3600\n",
    "print(k_rxn)\n",
    "# rate per hour\n",
    "p_H2 = 1 #bar\n",
    "rate = k_rxn*p_H2\n",
    "#0.5 mM concentration, gives very low chemical activity of phenylacetylene\n",
    "#barrier seems too high!\n",
    "#TOF per hour r = 13756 hr-1\n",
    "rate"
   ]
  },
  {
   "cell_type": "code",
   "execution_count": null,
   "id": "59d4b28e",
   "metadata": {},
   "outputs": [],
   "source": []
  },
  {
   "cell_type": "code",
   "execution_count": null,
   "id": "7ae38080",
   "metadata": {},
   "outputs": [],
   "source": []
  }
 ],
 "metadata": {
  "kernelspec": {
   "display_name": "Python 3 (ipykernel)",
   "language": "python",
   "name": "python3"
  },
  "language_info": {
   "codemirror_mode": {
    "name": "ipython",
    "version": 3
   },
   "file_extension": ".py",
   "mimetype": "text/x-python",
   "name": "python",
   "nbconvert_exporter": "python",
   "pygments_lexer": "ipython3",
   "version": "3.11.1"
  }
 },
 "nbformat": 4,
 "nbformat_minor": 5
}
