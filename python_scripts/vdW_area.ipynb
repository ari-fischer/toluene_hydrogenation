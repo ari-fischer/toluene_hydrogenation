{
 "cells": [
  {
   "cell_type": "code",
   "execution_count": 62,
   "metadata": {
    "scrolled": true
   },
   "outputs": [],
   "source": [
    "import pandas as pd\n",
    "import numpy as np\n",
    "import scipy as sci\n",
    "from matplotlib import pyplot as plt\n",
    "\n",
    "from ase import Atoms\n",
    "\n",
    "from ase.visualize import view\n",
    "from ase.io import read\n",
    "from ase.io import write\n",
    "from ase.build import molecule\n",
    "from ase import units\n",
    "import os"
   ]
  },
  {
   "cell_type": "code",
   "execution_count": 63,
   "metadata": {
    "scrolled": true
   },
   "outputs": [],
   "source": [
    "#import the geometry from CONCAR file CONCAR\n",
    "name_file = 'molecule_library/CONTCAR_methylenebenzene_3x3'\n",
    "\n",
    "#use ASE to read file and open as atoms object\n",
    "atoms = read(name_file)\n",
    "#view(atoms)\n",
    "\n",
    "atoms_H = atoms[np.array(list(atoms.symbols))=='H']\n",
    "atoms_C = atoms[np.array(list(atoms.symbols))=='C']\n",
    "\n",
    "#visualize the adsorbed moiety\n",
    "#view(atoms_H+atoms_C)\n",
    "\n",
    "atoms_ads= atoms_H+atoms_C\n",
    "atoms_ads.set_pbc(True)"
   ]
  },
  {
   "cell_type": "code",
   "execution_count": 64,
   "metadata": {},
   "outputs": [],
   "source": [
    "#turn atoms_ads into dataframe\n",
    "df_atoms = pd.DataFrame(list(atoms_ads.symbols),columns=['atom'])\n",
    "\n",
    "df_pos = pd.DataFrame(atoms_ads.get_positions(),columns=['x','y','z'])\n",
    "df = pd.concat([df_atoms,df_pos], axis=1)\n",
    "\n",
    "# get center of position\n",
    "COP = [df['x'].mean(),df['y'].mean(),df['z'].mean()]"
   ]
  },
  {
   "cell_type": "code",
   "execution_count": 65,
   "metadata": {
    "scrolled": true
   },
   "outputs": [],
   "source": [
    "#split into matrices consisting of coordinates of each element and shift to zero COP\n",
    "df_H = df[df['atom']=='H']\n",
    "df_C = df[df['atom']=='C']\n",
    "\n",
    "#matricies with atomic coordinates shifted to the COP for C and H atoms with units of angstrom\n",
    "M_H = df_H[['x','y','z']].to_numpy()-COP\n",
    "M_C = df_C[['x','y','z']].to_numpy()-COP"
   ]
  },
  {
   "cell_type": "code",
   "execution_count": 66,
   "metadata": {
    "scrolled": true
   },
   "outputs": [],
   "source": [
    "#determine the vdW volume of all of the atoms without accounting for their overlap\n",
    "\n",
    "#Cs vdw volume\n",
    "vdW_R_C = 1.7 #radius, Ang\n",
    "vdW_V_C = np.pi*4/3*vdW_R_C**3 #vol of single C\n",
    "\n",
    "#Hs vdw volume\n",
    "vdW_R_H = 1.2 #radius, Ang\n",
    "vdW_V_H = np.pi*4/3*vdW_R_H**3 #vol of single C"
   ]
  },
  {
   "cell_type": "code",
   "execution_count": 67,
   "metadata": {
    "scrolled": true
   },
   "outputs": [],
   "source": [
    "# build a 3D grid and populate it with a sphere with the vdW volume\n",
    "# for each atom expaned about its coordinates \n",
    "\n",
    "# add 2 above and below the maximum position of the structure in x, y, and z directions\n",
    "# to ensure that the entire vdW spheres are included\n",
    "c_mins = np.array([np.min(df['x']),np.min(df['y']),np.min(df['z'])-2])-2\n",
    "c_maxs = np.array([np.max(df['x']),np.max(df['y']),np.max(df['z'])+2])+2\n",
    "c_ranges = c_maxs-c_mins\n",
    "\n",
    "#grid cube dimension\n",
    "d = 0.01 #discrete size\n",
    "\n",
    "#matrix dimensions calculated by normalizing the coordinate ranges by the cube dimension\n",
    "M_size = np.ceil(c_ranges/d)\n",
    "M_size = (np.ceil(M_size/2))*2 #make sure they are all even\n",
    "\n",
    "# build an empty 3D matrix to fill with vdW spheres with M_size dimensions\n",
    "M_fill = np.zeros([int(M_size[0]),int(M_size[1]),int(M_size[2])])"
   ]
  },
  {
   "cell_type": "code",
   "execution_count": 68,
   "metadata": {
    "scrolled": true
   },
   "outputs": [],
   "source": [
    "#obtain the coordinates of the C and H atoms in units of grids in the M matrix\n",
    "pos_H = M_H/d+np.ceil(M_size/2)\n",
    "pos_C = M_C/d+np.ceil(M_size/2)"
   ]
  },
  {
   "cell_type": "code",
   "execution_count": 69,
   "metadata": {
    "scrolled": true
   },
   "outputs": [
    {
     "name": "stderr",
     "output_type": "stream",
     "text": [
      "/var/folders/5n/dbmlrf856jxdz13g9t5fzxs40000gn/T/ipykernel_50538/363478187.py:25: RuntimeWarning: invalid value encountered in sqrt\n",
      "  z_plus = +np.sqrt((R/d)**2-x**2-y**2)\n",
      "/var/folders/5n/dbmlrf856jxdz13g9t5fzxs40000gn/T/ipykernel_50538/363478187.py:27: RuntimeWarning: invalid value encountered in sqrt\n",
      "  z_minus = -np.sqrt((R/d)**2-x**2-y**2)\n"
     ]
    },
    {
     "name": "stdout",
     "output_type": "stream",
     "text": [
      "grid volume: 20.759652000000003\n",
      "vdW volume: 20.579526276115534\n"
     ]
    }
   ],
   "source": [
    "# build a 3D grid to represent the elements filled by the C-volume enclosed within\n",
    "# use geometric relations between x, y, and z for a sphere\n",
    "# R = np.sqrt(x**2+y**2+z**2)\n",
    "# z=(+/-)np.sqrt(R**2-x**2+y**2)\n",
    "\n",
    "#specify the size of the grid to represent C-atoms\n",
    "C_size = [int(2/d)*2,int(2/d)*2,int(2/d)*2]\n",
    "#build a matrix to fill with 1s at the position of the C-sphere\n",
    "C_fill = np.zeros(C_size)\n",
    "R = vdW_R_C\n",
    "\n",
    "zs = np.array([])\n",
    "\n",
    "\n",
    "for i in range(int(np.ceil(R)/d)):\n",
    "    # Initialize an empty array to store the z-values for this slice\n",
    "    z_slice = np.array([])\n",
    "\n",
    "    # Loop over y-coordinates\n",
    "    for j in range(int(np.ceil(R)/d)):\n",
    "        # Assign current x and y values\n",
    "        x = i\n",
    "        y = j\n",
    "        # Calculate the positive z-value for the current (x, y) using the sphere equation\n",
    "        z_plus = +np.sqrt((R/d)**2-x**2-y**2)\n",
    "        # Calculate the negative z-value for the current (x, y)\n",
    "        z_minus = -np.sqrt((R/d)**2-x**2-y**2)\n",
    "        # Append the positive z-value to the z_slice array (for now, only considering the upper half of the sphere)\n",
    "        z_slice = np.append(z_slice,[z_plus])\n",
    "        \n",
    "    # Create a symmetrical slice by appending the flipped z_slice (which represents the lower half of the sphere)\n",
    "    z_slice = np.append(np.flip(z_slice),z_slice)\n",
    "    \n",
    "    # Loop over all x-coordinates in the grid\n",
    "    for k in range(C_size[0]):\n",
    "        # Calculate the maximum z index for filling\n",
    "        z_max = np.ceil(z_slice[k])\n",
    "        # If the z_max value is positive, fill the grid at the appropriate positions with 1s\n",
    "        if z_max>0:\n",
    "            # Fill the upper half of the sphere in the grid\n",
    "            C_fill[i+int(C_size[0]/2),k,int(C_size[0]/2-z_max-1):int(z_max-1+C_size[0]/2)]=1\n",
    "            # Fill the lower half of the sphere in the grid (by symmetry)\n",
    "            C_fill[int(C_size[0]/2)-i,k,int(C_size[0]/2-z_max-1):int(z_max-1+C_size[0]/2)]=1\n",
    "\n",
    "#compare numerical volume with geometry calculation\n",
    "print('grid volume: '+str(np.sum(C_fill)*d**3)) \n",
    "print('vdW volume: '+str(4*np.pi/3*vdW_R_C**3)) "
   ]
  },
  {
   "cell_type": "code",
   "execution_count": 70,
   "metadata": {
    "scrolled": true
   },
   "outputs": [
    {
     "name": "stderr",
     "output_type": "stream",
     "text": [
      "/var/folders/5n/dbmlrf856jxdz13g9t5fzxs40000gn/T/ipykernel_50538/3167089378.py:13: RuntimeWarning: invalid value encountered in sqrt\n",
      "  z_plus = +np.sqrt((R/d)**2-x**2-y**2)\n",
      "/var/folders/5n/dbmlrf856jxdz13g9t5fzxs40000gn/T/ipykernel_50538/3167089378.py:14: RuntimeWarning: invalid value encountered in sqrt\n",
      "  z_minus = -np.sqrt((R/d)**2-x**2-y**2)\n"
     ]
    },
    {
     "name": "stdout",
     "output_type": "stream",
     "text": [
      "grid volume: 7.175966000000002\n",
      "vdW volume: 7.238229473870882\n"
     ]
    }
   ],
   "source": [
    "#repeat the same procedure for an H-atom\n",
    "H_size = [int(1.5/d)*2,int(1.5/d)*2,int(1.5/d)*2]\n",
    "H_fill = np.zeros(H_size)\n",
    "R = vdW_R_H\n",
    "\n",
    "zs = np.array([])\n",
    "for i in range(int(np.ceil(R)/d)):\n",
    "    z_slice = np.array([])\n",
    "    for j in range(int(np.ceil(R)/d)):\n",
    "\n",
    "        x = i\n",
    "        y = j\n",
    "        z_plus = +np.sqrt((R/d)**2-x**2-y**2)\n",
    "        z_minus = -np.sqrt((R/d)**2-x**2-y**2)\n",
    "        z_slice = np.append(z_slice,[z_plus])\n",
    "    z_slice = np.append(np.flip(z_slice),z_slice)    \n",
    "    for k in range(H_size[0]):\n",
    "        z_max = np.ceil(z_slice[k])\n",
    "        if z_max>0:\n",
    "            H_fill[i+int(H_size[0]/2),k,int(H_size[0]/2-z_max-1):int(z_max-1+H_size[0]/2)]=1\n",
    "            H_fill[int(H_size[0]/2)-i,k,int(H_size[0]/2-z_max-1):int(z_max-1+H_size[0]/2)]=1\n",
    "\n",
    "#compare numerical volume with geometry calculation\n",
    "print('grid volume: '+str(np.sum(H_fill)*d**3)) \n",
    "print('vdW volume: '+str(4*np.pi/3*vdW_R_H**3)) "
   ]
  },
  {
   "cell_type": "code",
   "execution_count": 71,
   "metadata": {
    "scrolled": true
   },
   "outputs": [],
   "source": [
    "#superimpose spheres by taking the coordinates of each C and H. \n",
    "#Add matrix elements +/- dimensions of the atom to the M matrix.\n",
    "i = 0\n",
    "for i in range(np.shape(pos_C)[0]):\n",
    "    M_fill[int(np.ceil(pos_C[i][0])-int(C_size[0]/2)):int(np.ceil(pos_C[i][0])+int(C_size[0]/2)),\n",
    "       int(np.ceil(pos_C[i][1])-int(C_size[0]/2)): int(np.ceil(pos_C[i][1])+int(C_size[0]/2)),\n",
    "       int(np.ceil(pos_C[i][2])-int(C_size[0]/2)): int(np.ceil(pos_C[i][2])+int(C_size[0]/2))] += C_fill\n",
    "\n",
    "i = 0  \n",
    "for i in range(np.shape(pos_H)[0]):\n",
    "    M_fill[int(np.ceil(pos_H[i][0])-int(H_size[0]/2)):int(np.ceil(pos_H[i][0])+int(H_size[0]/2)),\n",
    "       int(np.ceil(pos_H[i][1])-int(H_size[0]/2)): int(np.ceil(pos_H[i][1])+int(H_size[0]/2)),\n",
    "       int(np.ceil(pos_H[i][2])-int(H_size[0]/2)): int(np.ceil(pos_H[i][2])+int(H_size[0]/2))] += H_fill\n"
   ]
  },
  {
   "cell_type": "code",
   "execution_count": 72,
   "metadata": {
    "scrolled": true
   },
   "outputs": [
    {
     "name": "stdout",
     "output_type": "stream",
     "text": [
      "41.208000000000006\n"
     ]
    }
   ],
   "source": [
    "#replace all of the values larger than 1 (when they overlap) with 1\n",
    "M_fill[M_fill>1]=1\n",
    "#collapse the z-axis of the 3D geomertry down onto the xy plane\n",
    "vdW_2d = np.sum(M_fill,axis=2)\n",
    "#replace any non-zero element with 1\n",
    "vdW_2d[vdW_2d>1] = 1\n",
    "#count the filled grids and multiply by grid size for the area element to get the vdW area\n",
    "vdW_area=np.sum(vdW_2d)*d**2\n",
    "print(vdW_area)"
   ]
  },
  {
   "cell_type": "code",
   "execution_count": null,
   "metadata": {},
   "outputs": [],
   "source": []
  }
 ],
 "metadata": {
  "kernelspec": {
   "display_name": "Python 3 (ipykernel)",
   "language": "python",
   "name": "python3"
  },
  "language_info": {
   "codemirror_mode": {
    "name": "ipython",
    "version": 3
   },
   "file_extension": ".py",
   "mimetype": "text/x-python",
   "name": "python",
   "nbconvert_exporter": "python",
   "pygments_lexer": "ipython3",
   "version": "3.11.1"
  }
 },
 "nbformat": 4,
 "nbformat_minor": 2
}
